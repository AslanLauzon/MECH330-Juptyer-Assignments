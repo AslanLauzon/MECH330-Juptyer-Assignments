{
 "cells": [
  {
   "cell_type": "markdown",
   "metadata": {
    "deletable": false,
    "editable": false,
    "nbgrader": {
     "cell_type": "markdown",
     "checksum": "67e13e7ee244b4b8750022b55679ceb2",
     "grade": false,
     "grade_id": "cell-d96e750df0dd8244",
     "locked": true,
     "schema_version": 3,
     "solution": false,
     "task": false
    },
    "tags": []
   },
   "source": [
    "# Jupyter Assignment 1, Thermo I Refresher & Introduction to Cantera"
   ]
  },
  {
   "cell_type": "markdown",
   "metadata": {
    "deletable": false,
    "editable": false,
    "nbgrader": {
     "cell_type": "markdown",
     "checksum": "e98880b3d2e04d3ddff67dea51f191ba",
     "grade": false,
     "grade_id": "cell-7f73ebb69b6210a5",
     "locked": true,
     "schema_version": 3,
     "solution": false,
     "task": false
    },
    "tags": []
   },
   "source": [
    "Mech 330, Fall 2025"
   ]
  },
  {
   "cell_type": "markdown",
   "metadata": {},
   "source": [
    "Group #:\n",
    "Student ID numbers:\n",
    "Names: "
   ]
  },
  {
   "cell_type": "markdown",
   "metadata": {
    "deletable": false,
    "editable": false,
    "nbgrader": {
     "cell_type": "markdown",
     "checksum": "f73c7524ee1b77246dcbc8359458954b",
     "grade": false,
     "grade_id": "cell-2cfb98db46b02e50",
     "locked": true,
     "schema_version": 3,
     "solution": false,
     "task": false
    },
    "tags": []
   },
   "source": [
    "The main goal of this project is to use Cantera to build a water vapor dome, like those shown in the Textbook (e.g., Figure A-7). We'll use similar code in the next assignment to visualize vapor power plant cycles.\n",
    "\n",
    "This assignment will serve as a refresher on Thermo I concepts and will introduce you to cantera, which is a powerful software package for performing thermodynamic and chemical kinetic calculations. This assignment will be somewhat shorter than subsequent Jupyter Assignments.\n",
    "\n",
    "Assignment questions have <font color='blue'>blue text</font> and empty code boxes beneath them."
   ]
  },
  {
   "cell_type": "code",
   "execution_count": 28,
   "metadata": {
    "deletable": false,
    "editable": false,
    "jupyter": {
     "outputs_hidden": false
    },
    "nbgrader": {
     "cell_type": "code",
     "checksum": "ed0e8c24ce26e239ababfd6b0bd716df",
     "grade": false,
     "grade_id": "cell-b36ec66e760f24bf",
     "locked": true,
     "schema_version": 3,
     "solution": false,
     "task": false
    },
    "tags": []
   },
   "outputs": [],
   "source": [
    "import numpy as np\n",
    "import matplotlib.pyplot as plt\n",
    "import cantera as ct"
   ]
  },
  {
   "cell_type": "markdown",
   "metadata": {
    "deletable": false,
    "editable": false,
    "nbgrader": {
     "cell_type": "markdown",
     "checksum": "bcd739b1ae4fd0b8f7af01b2932ebff5",
     "grade": false,
     "grade_id": "cell-cf026daae138fb9f",
     "locked": true,
     "schema_version": 3,
     "solution": false,
     "task": false
    },
    "tags": []
   },
   "source": [
    "As always, the first step is to import relevant libraries, in this case, the numpy, matplotlib, and cantera libraries. If you get an error for cantera, open a Terminal window and type in:\n",
    "\n",
    "`pip install cantera`\n",
    "\n",
    "and try to run the cell again."
   ]
  },
  {
   "cell_type": "markdown",
   "metadata": {
    "deletable": false,
    "editable": false,
    "nbgrader": {
     "cell_type": "markdown",
     "checksum": "9cf0d54fb3b94b8b9da51ed585f32a40",
     "grade": false,
     "grade_id": "cell-39b62741c167ed51",
     "locked": true,
     "schema_version": 3,
     "solution": false,
     "task": false
    },
    "tags": []
   },
   "source": [
    "### Problem 1: Using Cantera to calculate state properties\n",
    "\n",
    "First we will demonstrate how using Cantera can replace the steam tables used in Thermo I (we will still use steam tables in MECH 330, however, for traditional assignments and exams)."
   ]
  },
  {
   "cell_type": "code",
   "execution_count": 29,
   "metadata": {
    "deletable": false,
    "editable": false,
    "jupyter": {
     "outputs_hidden": false
    },
    "nbgrader": {
     "cell_type": "code",
     "checksum": "f3c1289ec8fff40105b8cd01a56fa6d0",
     "grade": false,
     "grade_id": "cell-57b53f47726c1a93",
     "locked": true,
     "schema_version": 3,
     "solution": false,
     "task": false
    },
    "tags": []
   },
   "outputs": [],
   "source": [
    "w = ct.Water()\n",
    "w.TP = 300,101325  # K, Pa"
   ]
  },
  {
   "cell_type": "markdown",
   "metadata": {
    "deletable": false,
    "editable": false,
    "nbgrader": {
     "cell_type": "markdown",
     "checksum": "e1ce8a728966b575fcd1df824bdeebb6",
     "grade": false,
     "grade_id": "cell-c0af5e44a51f4fdd",
     "locked": true,
     "schema_version": 3,
     "solution": false,
     "task": false
    },
    "tags": []
   },
   "source": [
    "The first line imports a 'water' object from Cantera's database.\\\n",
    "The last line sets the temperature and pressure of the water, in this case to standard conditions (room temperature and pressure). \\\n",
    "Note that Cantera uses the following standard units: \\\n",
    "Temperature: K \\\n",
    "Pressure: Pa \\\n",
    "Mass: kg \\\n",
    "Molarity: kmol (not mol)"
   ]
  },
  {
   "cell_type": "code",
   "execution_count": 30,
   "metadata": {
    "deletable": false,
    "editable": false,
    "jupyter": {
     "outputs_hidden": false
    },
    "nbgrader": {
     "cell_type": "code",
     "checksum": "71e9188a58e9c8a3c673015d2b991abc",
     "grade": false,
     "grade_id": "cell-b3bc5561dfb6f124",
     "locked": true,
     "schema_version": 3,
     "solution": false,
     "task": false
    },
    "tags": []
   },
   "outputs": [
    {
     "data": {
      "text/plain": [
       "3913.1760189801585"
      ]
     },
     "execution_count": 30,
     "metadata": {},
     "output_type": "execute_result"
    }
   ],
   "source": [
    "w.entropy_mass  # J/kg/K"
   ]
  },
  {
   "cell_type": "markdown",
   "metadata": {
    "deletable": false,
    "editable": false,
    "nbgrader": {
     "cell_type": "markdown",
     "checksum": "df8ffe3b0a76eaa5dcf3335699e8a473",
     "grade": false,
     "grade_id": "cell-d1bae894a913c57d",
     "locked": true,
     "schema_version": 3,
     "solution": false,
     "task": false
    },
    "tags": []
   },
   "source": [
    "We can now query the object's relevant state properties, just like looking up the values on the steam tables. In this case, we queried the specific entropy per unit mass, outputted in units of J/kg/K.\n",
    "\n",
    "A list of relevant properties is below for reference.\n",
    "\n",
    "`T` temperature (K) \\\n",
    "    `P` pressure (Pa) \\\n",
    "    `density` density = 1/specific volume (kg/m^3) \\\n",
    "    `Q` vapor fraction or quality (unitless) \\\n",
    "    `enthalpy_mass` specific enthalpy (J/kg) \\\n",
    "    `int_energy_mass` specific internal energy (J/kg) \\\n",
    "    `entropy_mass` specific entropy (J/kg/K) \\\n",
    "    `cp_mass` specific heat capacity at constant pressure (J/kg/K) \\\n",
    "    `cv_mass` specific heat capacity at constant volume (J/kg/K)\n"
   ]
  },
  {
   "cell_type": "code",
   "execution_count": 31,
   "metadata": {
    "deletable": false,
    "editable": false,
    "jupyter": {
     "outputs_hidden": false
    },
    "nbgrader": {
     "cell_type": "code",
     "checksum": "9256fbc8b7a768d96242bb36fff2da2e",
     "grade": false,
     "grade_id": "cell-2556ea5050ac144e",
     "locked": true,
     "schema_version": 3,
     "solution": false,
     "task": false
    },
    "tags": []
   },
   "outputs": [
    {
     "name": "stdout",
     "output_type": "stream",
     "text": [
      "\n",
      "  water:\n",
      "\n",
      "       temperature   300 K\n",
      "          pressure   1.0132e+05 Pa\n",
      "           density   996.63 kg/m^3\n",
      "  mean mol. weight   18.016 kg/kmol\n",
      "    vapor fraction   0\n",
      "   phase of matter   liquid\n",
      "\n",
      "                          1 kg             1 kmol     \n",
      "                     ---------------   ---------------\n",
      "          enthalpy       -1.5858e+07        -2.857e+08  J\n",
      "   internal energy       -1.5858e+07        -2.857e+08  J\n",
      "           entropy            3913.2             70500  J/K\n",
      "    Gibbs function       -1.7032e+07       -3.0685e+08  J\n",
      " heat capacity c_p            4180.8             75321  J/K\n",
      " heat capacity c_v              4131             74424  J/K\n",
      "\n"
     ]
    }
   ],
   "source": [
    "w()"
   ]
  },
  {
   "cell_type": "markdown",
   "metadata": {
    "deletable": false,
    "editable": false,
    "nbgrader": {
     "cell_type": "markdown",
     "checksum": "ad9d46e591e416e1644ea28764d31558",
     "grade": false,
     "grade_id": "cell-90c018188b9dc5c9",
     "locked": true,
     "schema_version": 3,
     "solution": false,
     "task": false
    },
    "tags": []
   },
   "source": [
    "We can also take a look at the state of the water and relevant properties by calling `w()`, where `w` is the name of the object."
   ]
  },
  {
   "cell_type": "markdown",
   "metadata": {
    "deletable": false,
    "editable": false,
    "nbgrader": {
     "cell_type": "markdown",
     "checksum": "fbce0943b640bb351fd42f77074c6726",
     "grade": false,
     "grade_id": "cell-3c7f33dde2f9293b",
     "locked": true,
     "schema_version": 3,
     "solution": false,
     "task": false
    },
    "tags": []
   },
   "source": [
    "<font color='blue'>1.1: In the cell below, query the specific enthalpy (units are J/kg). It should match what is listed above. (0.5 points)"
   ]
  },
  {
   "cell_type": "code",
   "execution_count": 32,
   "metadata": {
    "deletable": false,
    "jupyter": {
     "outputs_hidden": false
    },
    "nbgrader": {
     "cell_type": "code",
     "checksum": "f8a54fc7823bedee05877fac4470e6be",
     "grade": true,
     "grade_id": "cell-db038b2f62e8ed98",
     "locked": false,
     "points": 0.5,
     "schema_version": 3,
     "solution": true,
     "task": false
    },
    "tags": []
   },
   "outputs": [
    {
     "name": "stdout",
     "output_type": "stream",
     "text": [
      "-15858111.055961624\n"
     ]
    }
   ],
   "source": [
    "print(w.enthalpy_mass)\n"
   ]
  },
  {
   "cell_type": "markdown",
   "metadata": {
    "deletable": false,
    "editable": false,
    "nbgrader": {
     "cell_type": "markdown",
     "checksum": "1324e38e3fe6548ff15d0a02b5fd83e8",
     "grade": false,
     "grade_id": "cell-fdde204e4877e01d",
     "locked": true,
     "schema_version": 3,
     "solution": false,
     "task": false
    },
    "tags": []
   },
   "source": [
    "<font color='blue'>1.2: Now change the object's temperature and pressure to 200C (note you will need to convert from C to K) and 1 atm (again, you will need to convert from atm to Pa), and query the entropy per unit mass. (0.5 points)</font>\n",
    "\n",
    "Note that this corresponds to superheated vapor (remember of course, the boiling point of water is 100C at 1 atm)\n",
    "\n",
    "Hint, use the same `TP` command as above."
   ]
  },
  {
   "cell_type": "code",
   "execution_count": 33,
   "metadata": {
    "deletable": false,
    "jupyter": {
     "outputs_hidden": false
    },
    "nbgrader": {
     "cell_type": "code",
     "checksum": "42bfd1c0ff06aad17ca65e5ecbd54fa4",
     "grade": true,
     "grade_id": "cell-e03032b70153f6be",
     "locked": false,
     "points": 0.5,
     "schema_version": 3,
     "solution": true,
     "task": false
    },
    "tags": []
   },
   "outputs": [],
   "source": [
    "w.TP = 473.15,101325 "
   ]
  },
  {
   "cell_type": "markdown",
   "metadata": {
    "deletable": false,
    "editable": false,
    "nbgrader": {
     "cell_type": "markdown",
     "checksum": "6bee89022297c9552e0bf7ecd26ccebe",
     "grade": false,
     "grade_id": "cell-676e7b60356cd443",
     "locked": true,
     "schema_version": 3,
     "solution": false,
     "task": false
    },
    "tags": []
   },
   "source": [
    "You can also query the saturation temperature at the current pressure using `T_sat` or the saturation pressure at the current temperature using `P_sat`\n",
    "\n",
    "<font color='blue'>1.3 Query the saturation temperature at the current pressure (1 atm) and verify that it is approximately 100C. (0.5 points)"
   ]
  },
  {
   "cell_type": "code",
   "execution_count": 34,
   "metadata": {
    "deletable": false,
    "jupyter": {
     "outputs_hidden": false
    },
    "nbgrader": {
     "cell_type": "code",
     "checksum": "a637f9c8ab926102cc568c4fce677a53",
     "grade": true,
     "grade_id": "cell-79205f7aab0deeb3",
     "locked": false,
     "points": 0.5,
     "schema_version": 3,
     "solution": true,
     "task": false
    },
    "tags": []
   },
   "outputs": [
    {
     "name": "stdout",
     "output_type": "stream",
     "text": [
      "373.1772329454416 Kelvin\n",
      "100.0272329454416 Celcius\n"
     ]
    }
   ],
   "source": [
    "# YOUR CODE HERE\n",
    "print(f\"{w.T_sat} Kelvin\")\n",
    "print(f\"{w.T_sat-273.15} Celcius\")"
   ]
  },
  {
   "cell_type": "markdown",
   "metadata": {
    "deletable": false,
    "editable": false,
    "nbgrader": {
     "cell_type": "markdown",
     "checksum": "6fd12546df53466f46a87f7af4dd13b6",
     "grade": false,
     "grade_id": "cell-a02dd308555c1086",
     "locked": true,
     "schema_version": 3,
     "solution": false,
     "task": false
    },
    "tags": []
   },
   "source": [
    "It's also possible to prescribe the thermodynamic state of the water object using other inputs besides temperature and pressure. Note that when setting properties, the syntax is always capitalized. For example, when setting entropy and pressure, the syntax is `w.SP`. A full list of these are listed here: https://cantera.org/documentation/docs-2.6/sphinx/html/cython/importing.html#pure-fluid-phases\n",
    "\n",
    "But the relevant ones for this class are: \\\n",
    "        `TP` temperature and pressure \\\n",
    "    `SP` entropy and pressure \\\n",
    "    `HP` enthalpy and pressure \\\n",
    "    `TH` temperature and enthalpy \\\n",
    "    `TQ` temperature and quality \\\n",
    "    `PQ` pressure and quality \\\n",
    "    `TD` temperature and density \\\n",
    "    `SV` entropy and specific volume\n",
    " \\\n",
    "If you're trying one not listed here and get an error, try switching the order of the letters.\n",
    "\n",
    "<font color='blue'>1.4: Now change the object's temperature to 100C and its quality to 0 (saturated liquid). Query the saturation pressure. Verify it is around 1 atm. (0.5 points) </font>"
   ]
  },
  {
   "cell_type": "code",
   "execution_count": 35,
   "metadata": {
    "deletable": false,
    "jupyter": {
     "outputs_hidden": false
    },
    "nbgrader": {
     "cell_type": "code",
     "checksum": "3f8ea6e5caebe31a1e529aba303a04be",
     "grade": true,
     "grade_id": "cell-6af45277bf2fe8e3",
     "locked": false,
     "points": 0.5,
     "schema_version": 3,
     "solution": true,
     "task": false
    },
    "tags": []
   },
   "outputs": [
    {
     "name": "stdout",
     "output_type": "stream",
     "text": [
      "0.999028425467129 atm\n"
     ]
    }
   ],
   "source": [
    "# YOUR CODE HERE\n",
    "w.TQ = 373.15, 0.5  # K, quality\n",
    "print(f\"{w.P/101325} atm\")"
   ]
  },
  {
   "cell_type": "markdown",
   "metadata": {
    "deletable": false,
    "editable": false,
    "nbgrader": {
     "cell_type": "markdown",
     "checksum": "4d033607882513cd00934d392a6155bf",
     "grade": false,
     "grade_id": "cell-71d79bce03f2c98f",
     "locked": true,
     "schema_version": 3,
     "solution": false,
     "task": false
    },
    "tags": []
   },
   "source": [
    "### Problem 2: Building a vapor dome\n",
    "We are now ready to build the vapor dome using Cantera. Our goal is to plot the vapor dome on a T-s diagram.\n",
    "\n",
    "We will calculate the left and right side of the vapor dome separately. Remember, the left side of the vapor dome corresponds to saturated liquid, the right side of the vapor dome corresponds to saturated vapor, and the top of the vapor dome is the critical point.\n",
    "\n",
    "Some starter code has made a numpy vector of temperatures between 274K and 647.28K (near the critical point, which can be queried with `w.critical_temperature`), and initialized entropy vectors for the left and right sides of the vapor dome.\n",
    "\n",
    "<font color='blue'>2.1: Using a `for` loop, calculate the specific entropy for a saturated liquid (`s_left`) and saturated vapor (`s_right`) for each point in the temperature vector. (1 point) </font>\n",
    "\n",
    "Hint, you will use the same command used in part 1.4."
   ]
  },
  {
   "cell_type": "code",
   "execution_count": 36,
   "metadata": {
    "deletable": false,
    "jupyter": {
     "outputs_hidden": false
    },
    "nbgrader": {
     "cell_type": "code",
     "checksum": "ac2ffe15ae87f17d8b07d15bc7e55779",
     "grade": false,
     "grade_id": "cell-f9eef161edbf5e6e",
     "locked": false,
     "schema_version": 3,
     "solution": true,
     "task": false
    },
    "tags": []
   },
   "outputs": [],
   "source": [
    "T_vapordome = np.linspace(274,647.28,200)\n",
    "s_left = np.zeros(len(T_vapordome))\n",
    "s_right = np.zeros(len(T_vapordome))\n",
    "\n",
    "# YOUR CODE HERE\n",
    "\n",
    "for i, T in enumerate(T_vapordome):\n",
    "    w.TQ = T, 0\n",
    "    s_left[i] = w.entropy_mass\n",
    "\n",
    "    w.TQ = T, 1\n",
    "    s_right[i] = w.entropy_mass\n"
   ]
  },
  {
   "cell_type": "markdown",
   "metadata": {},
   "source": []
  },
  {
   "cell_type": "code",
   "execution_count": 37,
   "metadata": {
    "deletable": false,
    "editable": false,
    "nbgrader": {
     "cell_type": "code",
     "checksum": "34093c6d12e9088d2e805d1ff8f92fcb",
     "grade": true,
     "grade_id": "cell-a48b4d85a193ed33",
     "locked": true,
     "points": 1,
     "schema_version": 3,
     "solution": false,
     "task": false
    },
    "tags": []
   },
   "outputs": [],
   "source": [
    "# Autograde test cell"
   ]
  },
  {
   "cell_type": "markdown",
   "metadata": {
    "deletable": false,
    "editable": false,
    "nbgrader": {
     "cell_type": "markdown",
     "checksum": "cb4b2117abccbed5582dcc19113592b9",
     "grade": false,
     "grade_id": "cell-bb5e99b5afb62f2f",
     "locked": true,
     "schema_version": 3,
     "solution": false,
     "task": false
    },
    "tags": []
   },
   "source": [
    "<font color='blue'>2.2 Now plot the results using matplotlib, making sure to label your axes. (1 point)</font>\n",
    "\n",
    "Hint: In a T-s diagram, entropy is on the x-axis, temperature on the y-axis."
   ]
  },
  {
   "cell_type": "code",
   "execution_count": 38,
   "metadata": {
    "deletable": false,
    "jupyter": {
     "outputs_hidden": false
    },
    "nbgrader": {
     "cell_type": "code",
     "checksum": "6a06729a704879443ed398b4b1b29c3c",
     "grade": true,
     "grade_id": "cell-f1a54c6faa015497",
     "locked": false,
     "points": 1,
     "schema_version": 3,
     "solution": true,
     "task": false
    },
    "tags": []
   },
   "outputs": [
    {
     "data": {
      "image/png": "[encoded data removed]",
      "text/plain": [
       "<Figure size 800x600 with 1 Axes>"
      ]
     },
     "metadata": {},
     "output_type": "display_data"
    }
   ],
   "source": [
    "# YOUR CODE HERE\n",
    "plt.figure(figsize=(8,6))\n",
    "plt.plot(s_left, T_vapordome, label='Saturated Liquid')\n",
    "plt.plot(s_right, T_vapordome, label='Saturated Vapor')\n",
    "plt.xlabel('Specific Entropy (J/kg/K)')\n",
    "plt.ylabel('Temperature (K)')\n",
    "plt.title('Water Vapor Dome on T-s Diagram')\n",
    "plt.legend()\n",
    "plt.grid(True)\n",
    "plt.show()"
   ]
  },
  {
   "cell_type": "markdown",
   "metadata": {
    "deletable": false,
    "editable": false,
    "nbgrader": {
     "cell_type": "markdown",
     "checksum": "1ed2552a697a7aed42b87e0d6dc87a27",
     "grade": false,
     "grade_id": "cell-c4c47f27732c9613",
     "locked": true,
     "schema_version": 3,
     "solution": false,
     "task": false
    },
    "tags": []
   },
   "source": [
    "Finally, let's add some isobars to the T-s diagram.\n",
    "\n",
    "<font color='blue'>2.3 Pick 3 values of pressure that go through the vapor dome and 1 that exceeds the vapor dome (you can play around to find appropriate values of pressure, or calculate the critical pressure using `w.critical_pressure`). For the supplied entropy vector (`S_isobar`), calculate the temperatures corresponding to the chosen pressure.</font>\n",
    "\n",
    "Hint: Use `w.SP` to set the state. Remember that a pressure and entropy fully defines a state, even within the vapor dome.\n",
    "\n",
    "Second hint: You may encounter errors if you try pressures higher than 300 bar (this is a good maximum)."
   ]
  },
  {
   "cell_type": "code",
   "execution_count": 39,
   "metadata": {},
   "outputs": [
    {
     "name": "stdout",
     "output_type": "stream",
     "text": [
      "220.89\n"
     ]
    }
   ],
   "source": [
    "print(w.critical_pressure/100000)"
   ]
  },
  {
   "cell_type": "code",
   "execution_count": 42,
   "metadata": {
    "deletable": false,
    "jupyter": {
     "outputs_hidden": false
    },
    "nbgrader": {
     "cell_type": "code",
     "checksum": "c0b6a795863c08040afdf4eb638fe83d",
     "grade": true,
     "grade_id": "cell-f70b2a49b5f4d745",
     "locked": false,
     "points": 0,
     "schema_version": 3,
     "solution": true,
     "task": false
    },
    "tags": []
   },
   "outputs": [],
   "source": [
    "S_isobar = np.linspace(4000,11000,200)\n",
    "P_isobar = np.array([50,100,150,250]) * 1e5  # Fill in 4 unique values here, note I have it converting from bar to Pa\n",
    "T_isobar = np.zeros((len(S_isobar),len(P_isobar)))\n",
    "\n",
    "for i in range (len(P_isobar)):\n",
    "    for j in range(len(S_isobar)):\n",
    "        w.SP = S_isobar[j], P_isobar[i]\n",
    "        T_isobar[j, i] = w.T\n"
   ]
  },
  {
   "cell_type": "markdown",
   "metadata": {
    "deletable": false,
    "editable": false,
    "nbgrader": {
     "cell_type": "markdown",
     "checksum": "3317b06e4955ace399114cfe36ed98ef",
     "grade": false,
     "grade_id": "cell-239d4ef6158c21f9",
     "locked": true,
     "schema_version": 3,
     "solution": false,
     "task": false
    },
    "tags": []
   },
   "source": [
    "<font color='blue'>2.4 Now add the isobars to your vapordome plot (starting by copying the plotting code from 2.2). Be sure to label the isobars or add a legend. (2 points)</font>"
   ]
  },
  {
   "cell_type": "code",
   "execution_count": 43,
   "metadata": {
    "deletable": false,
    "jupyter": {
     "outputs_hidden": false
    },
    "nbgrader": {
     "cell_type": "code",
     "checksum": "8b46da87bf076497bba5b7b5c3eb0115",
     "grade": true,
     "grade_id": "cell-9f1eae6129067209",
     "locked": false,
     "points": 2,
     "schema_version": 3,
     "solution": true,
     "task": false
    },
    "tags": []
   },
   "outputs": [
    {
     "data": {
      "text/plain": [
       "Text(0, 0.5, 'Temperature(K)')"
      ]
     },
     "execution_count": 43,
     "metadata": {},
     "output_type": "execute_result"
    },
    {
     "data": {
      "image/png": "[encoded data removed]",
      "text/plain": [
       "<Figure size 640x480 with 1 Axes>"
      ]
     },
     "metadata": {},
     "output_type": "display_data"
    }
   ],
   "source": [
    "# YOUR CODE HERE\n",
    "plt.plot(s_left, T_vapordome, 'k-')\n",
    "plt.plot(s_right, T_vapordome, 'k-')\n",
    "for i in range(len(P_isobar)):\n",
    "    plt.plot(S_isobar, T_isobar[:, i])\n",
    "    plt.text(S_isobar[-1], T_isobar[-1, i], str(int(P_isobar[i]/1e5))+'bar')\n",
    "plt.xlabel('Entropy(J/kg/K)')\n",
    "plt.ylabel('Temperature(K)')"
   ]
  }
 ],
 "metadata": {
  "kernelspec": {
   "display_name": "Juptyer Assignments",
   "language": "python",
   "name": "python3"
  },
  "language_info": {
   "codemirror_mode": {
    "name": "ipython",
    "version": 3
   },
   "file_extension": ".py",
   "mimetype": "text/x-python",
   "name": "python",
   "nbconvert_exporter": "python",
   "pygments_lexer": "ipython3",
   "version": "3.11.9"
  }
 },
 "nbformat": 4,
 "nbformat_minor": 4
}
